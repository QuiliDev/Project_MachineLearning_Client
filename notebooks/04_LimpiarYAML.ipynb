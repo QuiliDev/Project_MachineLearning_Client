{
 "cells": [
  {
   "cell_type": "code",
   "execution_count": 2,
   "id": "5393b75e",
   "metadata": {},
   "outputs": [
    {
     "name": "stdout",
     "output_type": "stream",
     "text": [
      "YAML limpiado y guardado en: ..\\models\\model_config_xgboost_predict_disputa.yaml\n"
     ]
    }
   ],
   "source": [
    "import yaml\n",
    "import numpy as np\n",
    "from pathlib import Path\n",
    "\n",
    "def to_py(obj):\n",
    "    if isinstance(obj, np.generic):\n",
    "        return obj.item()\n",
    "    if isinstance(obj, dict):\n",
    "        return {k: to_py(v) for k, v in obj.items()}\n",
    "    if isinstance(obj, (list, tuple)):\n",
    "        return [to_py(x) for x in obj]\n",
    "    return obj\n",
    "\n",
    "src = Path(\"../models/model_config_xgboost_predict_disputa.yaml\")\n",
    "dst = src  # reescribe el mismo archivo; cambia a otro Path si prefieres copia\n",
    "\n",
    "with open(src, \"r\", encoding=\"utf-8\") as f:\n",
    "    cfg = yaml.unsafe_load(f)  # carga aunque tenga tags numpy\n",
    "\n",
    "cfg_clean = to_py(cfg)  # convierte numpy.* -> tipos Python nativos\n",
    "\n",
    "with open(dst, \"w\", encoding=\"utf-8\") as f:\n",
    "    yaml.safe_dump(cfg_clean, f, sort_keys=False, allow_unicode=True)\n",
    "\n",
    "print(\"YAML limpiado y guardado en:\", dst)\n"
   ]
  }
 ],
 "metadata": {
  "kernelspec": {
   "display_name": ".venv",
   "language": "python",
   "name": "python3"
  },
  "language_info": {
   "codemirror_mode": {
    "name": "ipython",
    "version": 3
   },
   "file_extension": ".py",
   "mimetype": "text/x-python",
   "name": "python",
   "nbconvert_exporter": "python",
   "pygments_lexer": "ipython3",
   "version": "3.10.0"
  }
 },
 "nbformat": 4,
 "nbformat_minor": 5
}
